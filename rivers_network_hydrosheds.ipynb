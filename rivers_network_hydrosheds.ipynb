{
 "cells": [
  {
   "cell_type": "markdown",
   "metadata": {},
   "source": [
    "# Visualize"
   ]
  },
  {
   "cell_type": "code",
   "execution_count": 1,
   "metadata": {
    "collapsed": true,
    "jupyter": {
     "outputs_hidden": true
    }
   },
   "outputs": [
    {
     "name": "stdout",
     "output_type": "stream",
     "text": [
      "Collecting scikit-learn\n",
      "  Using cached https://files.pythonhosted.org/packages/2e/d0/860c4f6a7027e00acff373d9f5327f4ae3ed5872234b3cbdd7bcb52e5eff/scikit_learn-0.22-cp36-cp36m-manylinux1_x86_64.whl\n",
      "Collecting folium\n",
      "  Using cached https://files.pythonhosted.org/packages/fd/a0/ccb3094026649cda4acd55bf2c3822bb8c277eb11446d13d384e5be35257/folium-0.10.1-py2.py3-none-any.whl\n",
      "Collecting earthpy\n",
      "  Using cached https://files.pythonhosted.org/packages/5b/26/105c13b51b383547d3f2d16aa562fc857dc2b1af4b93ddc52dd99f02ec13/earthpy-0.8.0.tar.gz\n",
      "Collecting descartes\n",
      "  Using cached https://files.pythonhosted.org/packages/e5/b6/1ed2eb03989ae574584664985367ba70cd9cf8b32ee8cad0e8aaeac819f3/descartes-1.1.0-py3-none-any.whl\n",
      "Requirement already satisfied: scipy>=0.17.0 in ./lib/python3.6/site-packages (from scikit-learn)\n",
      "Requirement already satisfied: numpy>=1.11.0 in ./lib/python3.6/site-packages (from scikit-learn)\n",
      "Collecting joblib>=0.11 (from scikit-learn)\n",
      "  Using cached https://files.pythonhosted.org/packages/28/5c/cf6a2b65a321c4a209efcdf64c2689efae2cb62661f8f6f4bb28547cf1bf/joblib-0.14.1-py2.py3-none-any.whl\n",
      "Requirement already satisfied: jinja2>=2.9 in ./lib/python3.6/site-packages (from folium)\n",
      "Requirement already satisfied: requests in ./lib/python3.6/site-packages (from folium)\n",
      "Collecting branca>=0.3.0 (from folium)\n",
      "  Using cached https://files.pythonhosted.org/packages/63/36/1c93318e9653f4e414a2e0c3b98fc898b4970e939afeedeee6075dd3b703/branca-0.3.1-py3-none-any.whl\n",
      "Collecting Rtree>=0.8 (from earthpy)\n",
      "  Using cached https://files.pythonhosted.org/packages/11/1d/42d6904a436076df813d1df632575529991005b33aa82f169f01750e39e4/Rtree-0.9.3.tar.gz\n",
      "Requirement already satisfied: geopandas in ./lib/python3.6/site-packages (from earthpy)\n",
      "Requirement already satisfied: matplotlib>=2.0.0 in ./lib/python3.6/site-packages (from earthpy)\n",
      "Requirement already satisfied: rasterio in ./lib/python3.6/site-packages (from earthpy)\n",
      "Requirement already satisfied: scikit-image in ./lib/python3.6/site-packages (from earthpy)\n",
      "Requirement already satisfied: MarkupSafe>=0.23 in ./lib/python3.6/site-packages (from jinja2>=2.9->folium)\n",
      "Requirement already satisfied: urllib3!=1.25.0,!=1.25.1,<1.26,>=1.21.1 in ./lib/python3.6/site-packages (from requests->folium)\n",
      "Requirement already satisfied: chardet<3.1.0,>=3.0.2 in ./lib/python3.6/site-packages (from requests->folium)\n",
      "Requirement already satisfied: certifi>=2017.4.17 in ./lib/python3.6/site-packages (from requests->folium)\n",
      "Requirement already satisfied: idna<2.9,>=2.5 in ./lib/python3.6/site-packages (from requests->folium)\n",
      "Requirement already satisfied: six in ./lib/python3.6/site-packages (from branca>=0.3.0->folium)\n",
      "Requirement already satisfied: setuptools in ./lib/python3.6/site-packages (from Rtree>=0.8->earthpy)\n",
      "Requirement already satisfied: fiona in ./lib/python3.6/site-packages (from geopandas->earthpy)\n",
      "Requirement already satisfied: pandas>=0.23.0 in ./lib/python3.6/site-packages (from geopandas->earthpy)\n",
      "Requirement already satisfied: shapely in ./lib/python3.6/site-packages (from geopandas->earthpy)\n",
      "Requirement already satisfied: pyproj in ./lib/python3.6/site-packages (from geopandas->earthpy)\n",
      "Requirement already satisfied: cycler>=0.10 in ./lib/python3.6/site-packages (from matplotlib>=2.0.0->earthpy)\n",
      "Requirement already satisfied: kiwisolver>=1.0.1 in ./lib/python3.6/site-packages (from matplotlib>=2.0.0->earthpy)\n",
      "Requirement already satisfied: python-dateutil>=2.1 in ./lib/python3.6/site-packages (from matplotlib>=2.0.0->earthpy)\n",
      "Requirement already satisfied: pyparsing!=2.0.4,!=2.1.2,!=2.1.6,>=2.0.1 in ./lib/python3.6/site-packages (from matplotlib>=2.0.0->earthpy)\n",
      "Requirement already satisfied: attrs in ./lib/python3.6/site-packages (from rasterio->earthpy)\n",
      "Requirement already satisfied: affine in ./lib/python3.6/site-packages (from rasterio->earthpy)\n",
      "Requirement already satisfied: cligj>=0.5 in ./lib/python3.6/site-packages (from rasterio->earthpy)\n",
      "Requirement already satisfied: snuggs>=1.4.1 in ./lib/python3.6/site-packages (from rasterio->earthpy)\n",
      "Requirement already satisfied: click<8,>=4.0 in ./lib/python3.6/site-packages (from rasterio->earthpy)\n",
      "Requirement already satisfied: click-plugins in ./lib/python3.6/site-packages (from rasterio->earthpy)\n",
      "Requirement already satisfied: pillow>=4.3.0 in ./lib/python3.6/site-packages (from scikit-image->earthpy)\n",
      "Requirement already satisfied: networkx>=2.0 in ./lib/python3.6/site-packages (from scikit-image->earthpy)\n",
      "Requirement already satisfied: PyWavelets>=0.4.0 in ./lib/python3.6/site-packages (from scikit-image->earthpy)\n",
      "Requirement already satisfied: imageio>=2.3.0 in ./lib/python3.6/site-packages (from scikit-image->earthpy)\n",
      "Requirement already satisfied: munch in ./lib/python3.6/site-packages (from fiona->geopandas->earthpy)\n",
      "Requirement already satisfied: pytz>=2017.2 in ./lib/python3.6/site-packages (from pandas>=0.23.0->geopandas->earthpy)\n",
      "Requirement already satisfied: decorator>=4.3.0 in ./lib/python3.6/site-packages (from networkx>=2.0->scikit-image->earthpy)\n",
      "Building wheels for collected packages: earthpy, Rtree\n",
      "  Running setup.py bdist_wheel for earthpy ... \u001b[?25lerror\n",
      "  Complete output from command /home/duongbao/Dropbox/code/HydroViet/bin/python3 -u -c \"import setuptools, tokenize;__file__='/tmp/pip-build-z_ylv0i1/earthpy/setup.py';f=getattr(tokenize, 'open', open)(__file__);code=f.read().replace('\\r\\n', '\\n');f.close();exec(compile(code, __file__, 'exec'))\" bdist_wheel -d /tmp/tmp2lai98uopip-wheel- --python-tag cp36:\n",
      "  /usr/lib/python3.6/distutils/dist.py:261: UserWarning: Unknown distribution option: 'long_description_content_type'\n",
      "    warnings.warn(msg)\n",
      "  usage: -c [global_opts] cmd1 [cmd1_opts] [cmd2 [cmd2_opts] ...]\n",
      "     or: -c --help [cmd1 cmd2 ...]\n",
      "     or: -c --help-commands\n",
      "     or: -c cmd --help\n",
      "  \n",
      "  error: invalid command 'bdist_wheel'\n",
      "  \n",
      "  ----------------------------------------\n",
      "\u001b[31m  Failed building wheel for earthpy\u001b[0m\n",
      "\u001b[?25h  Running setup.py clean for earthpy\n",
      "  Running setup.py bdist_wheel for Rtree ... \u001b[?25lerror\n",
      "  Complete output from command /home/duongbao/Dropbox/code/HydroViet/bin/python3 -u -c \"import setuptools, tokenize;__file__='/tmp/pip-build-z_ylv0i1/Rtree/setup.py';f=getattr(tokenize, 'open', open)(__file__);code=f.read().replace('\\r\\n', '\\n');f.close();exec(compile(code, __file__, 'exec'))\" bdist_wheel -d /tmp/tmpzr534_k9pip-wheel- --python-tag cp36:\n",
      "  usage: -c [global_opts] cmd1 [cmd1_opts] [cmd2 [cmd2_opts] ...]\n",
      "     or: -c --help [cmd1 cmd2 ...]\n",
      "     or: -c --help-commands\n",
      "     or: -c cmd --help\n",
      "  \n",
      "  error: invalid command 'bdist_wheel'\n",
      "  \n",
      "  ----------------------------------------\n",
      "\u001b[31m  Failed building wheel for Rtree\u001b[0m\n",
      "\u001b[?25h  Running setup.py clean for Rtree\n",
      "Failed to build earthpy Rtree\n",
      "Installing collected packages: joblib, scikit-learn, branca, folium, Rtree, earthpy, descartes\n",
      "  Running setup.py install for Rtree ... \u001b[?25ldone\n",
      "\u001b[?25h  Running setup.py install for earthpy ... \u001b[?25ldone\n",
      "\u001b[?25hSuccessfully installed Rtree-0.9.3 branca-0.3.1 descartes-1.1.0 earthpy-0.8.0 folium-0.10.1 joblib-0.14.1 scikit-learn-0.22\n"
     ]
    }
   ],
   "source": [
    "!pip3 install scikit-learn folium earthpy descartes"
   ]
  },
  {
   "cell_type": "code",
   "execution_count": 1,
   "metadata": {},
   "outputs": [],
   "source": [
    "import numpy as np\n",
    "import pandas as pd\n",
    "import geopandas as gpd\n",
    "from shapely.geometry import *\n",
    "import matplotlib.pyplot as plt\n",
    "import folium\n",
    "from folium import Circle, Polygon, PolyLine, Marker\n",
    "import collections\n",
    "from folium import plugins\n",
    "from sklearn.neighbors import KDTree\n",
    "import queue\n",
    "import earthpy as et\n",
    "import earthpy.clip as ec\n",
    "from collections import defaultdict\n",
    "from folium import plugins"
   ]
  },
  {
   "cell_type": "code",
   "execution_count": 2,
   "metadata": {},
   "outputs": [],
   "source": [
    "from matplotlib import interactive\n",
    "interactive(True)\n",
    "%matplotlib inline"
   ]
  },
  {
   "cell_type": "code",
   "execution_count": 4,
   "metadata": {},
   "outputs": [
    {
     "data": {
      "text/html": [
       "<div>\n",
       "<style scoped>\n",
       "    .dataframe tbody tr th:only-of-type {\n",
       "        vertical-align: middle;\n",
       "    }\n",
       "\n",
       "    .dataframe tbody tr th {\n",
       "        vertical-align: top;\n",
       "    }\n",
       "\n",
       "    .dataframe thead th {\n",
       "        text-align: right;\n",
       "    }\n",
       "</style>\n",
       "<table border=\"1\" class=\"dataframe\">\n",
       "  <thead>\n",
       "    <tr style=\"text-align: right;\">\n",
       "      <th></th>\n",
       "      <th>UP_CELLS</th>\n",
       "      <th>geometry</th>\n",
       "    </tr>\n",
       "  </thead>\n",
       "  <tbody>\n",
       "    <tr>\n",
       "      <th>0</th>\n",
       "      <td>435</td>\n",
       "      <td>LINESTRING (94.62500 33.78958, 94.58125 33.789...</td>\n",
       "    </tr>\n",
       "    <tr>\n",
       "      <th>1</th>\n",
       "      <td>572</td>\n",
       "      <td>LINESTRING (94.58542 33.73542, 94.56458 33.735...</td>\n",
       "    </tr>\n",
       "    <tr>\n",
       "      <th>2</th>\n",
       "      <td>321</td>\n",
       "      <td>LINESTRING (94.66250 33.74375, 94.64792 33.743...</td>\n",
       "    </tr>\n",
       "    <tr>\n",
       "      <th>3</th>\n",
       "      <td>102</td>\n",
       "      <td>LINESTRING (94.50000 33.74167, 94.50625 33.735...</td>\n",
       "    </tr>\n",
       "    <tr>\n",
       "      <th>4</th>\n",
       "      <td>1072</td>\n",
       "      <td>LINESTRING (94.52708 33.73958, 94.52292 33.739...</td>\n",
       "    </tr>\n",
       "    <tr>\n",
       "      <th>...</th>\n",
       "      <td>...</td>\n",
       "      <td>...</td>\n",
       "    </tr>\n",
       "    <tr>\n",
       "      <th>21542</th>\n",
       "      <td>3829263</td>\n",
       "      <td>LINESTRING (105.99375 9.86042, 106.05208 9.802...</td>\n",
       "    </tr>\n",
       "    <tr>\n",
       "      <th>21543</th>\n",
       "      <td>508</td>\n",
       "      <td>LINESTRING (106.11458 9.78542, 106.11458 9.781...</td>\n",
       "    </tr>\n",
       "    <tr>\n",
       "      <th>21544</th>\n",
       "      <td>3829922</td>\n",
       "      <td>LINESTRING (106.08958 9.76042, 106.11458 9.735...</td>\n",
       "    </tr>\n",
       "    <tr>\n",
       "      <th>21545</th>\n",
       "      <td>427</td>\n",
       "      <td>LINESTRING (106.25000 9.77500, 106.24375 9.768...</td>\n",
       "    </tr>\n",
       "    <tr>\n",
       "      <th>21546</th>\n",
       "      <td>3830726</td>\n",
       "      <td>LINESTRING (106.13958 9.71458, 106.14375 9.710...</td>\n",
       "    </tr>\n",
       "  </tbody>\n",
       "</table>\n",
       "<p>21547 rows × 2 columns</p>\n",
       "</div>"
      ],
      "text/plain": [
       "       UP_CELLS                                           geometry\n",
       "0           435  LINESTRING (94.62500 33.78958, 94.58125 33.789...\n",
       "1           572  LINESTRING (94.58542 33.73542, 94.56458 33.735...\n",
       "2           321  LINESTRING (94.66250 33.74375, 94.64792 33.743...\n",
       "3           102  LINESTRING (94.50000 33.74167, 94.50625 33.735...\n",
       "4          1072  LINESTRING (94.52708 33.73958, 94.52292 33.739...\n",
       "...         ...                                                ...\n",
       "21542   3829263  LINESTRING (105.99375 9.86042, 106.05208 9.802...\n",
       "21543       508  LINESTRING (106.11458 9.78542, 106.11458 9.781...\n",
       "21544   3829922  LINESTRING (106.08958 9.76042, 106.11458 9.735...\n",
       "21545       427  LINESTRING (106.25000 9.77500, 106.24375 9.768...\n",
       "21546   3830726  LINESTRING (106.13958 9.71458, 106.14375 9.710...\n",
       "\n",
       "[21547 rows x 2 columns]"
      ]
     },
     "execution_count": 4,
     "metadata": {},
     "output_type": "execute_result"
    }
   ],
   "source": [
    "# dir = 'data/shapefiles/as_riv_15s/as_riv_15s.shp'\n",
    "# asriv = gpd.read_file(dir)\n",
    "# print(len(asriv))\n",
    "# mekong_basin = gpd.read_file('data/shapefiles/mekong_basin.geojson')\n",
    "# poly = mekong_basin.geometry.unary_union\n",
    "# rivers_gpd = asriv[asriv.geometry.intersects(poly)]\n",
    "rivers_gpd = gpd.read_file('mekong_rivers.shp')\n",
    "# rivers_gpd.set_index('ARCID', inplace = True)\n",
    "rivers_gpd"
   ]
  },
  {
   "cell_type": "code",
   "execution_count": 5,
   "metadata": {},
   "outputs": [],
   "source": [
    "pd.set_option('display.max_columns', None)\n",
    "pd.set_option('display.expand_frame_repr', False)\n",
    "pd.set_option('max_colwidth', -1)\n",
    "pd.set_option('display.expand_frame_repr', True)\n",
    "df = rivers_gpd.copy()\n",
    "\n",
    "df['geometry'] = df.geometry.apply(lambda line: line.coords)\n",
    "df['Count'] = df.geometry.apply(lambda line: len(line))\n",
    "df.sort_values(by = 'Count', inplace = True)"
   ]
  },
  {
   "cell_type": "code",
   "execution_count": 7,
   "metadata": {},
   "outputs": [],
   "source": [
    "dams_gpd = gpd.read_file('../data/shapefiles/dams/GRanD_Version_1_3/GRanD_dams_v1_3.shp')\n",
    "dams_gpd = dams_gpd[dams_gpd.MAIN_BASIN == 'Mekong']"
   ]
  },
  {
   "cell_type": "code",
   "execution_count": 9,
   "metadata": {},
   "outputs": [],
   "source": [
    "def add_line_string(line, strahler, m):\n",
    "    attr = {'fill': '#007DEF', 'font-weight': 'bold', 'font-size': '24'}\n",
    "    colorline_strah_map = ['blue', 'red', 'blue', 'yellow', 'black', 'orange']\n",
    "    colordirection_strah_map = ['#0a7400', '#ac1a1a', '#0c37a6', '#bacc05', '#7e7f71', '#ec9900' ]\n",
    "    \n",
    "    riverline = folium.PolyLine(line, color = colorline_strah_map[strahler - 1], weight = 2.5).add_to(m)\n",
    "    attr['fill'] = colordirection_strah_map[strahler - 1]\n",
    "    plugins.PolyLineTextPath(riverline, '\\u27a4     ', repeat=True, offet=6, attributes=attr).add_to(m)\n",
    "    return m\n",
    "\n",
    "def river_map(data):\n",
    "    '''\n",
    "    Visualize river map with dataframe from shapefile.\n",
    "    Color of river based on its strahler number.\n",
    "    '''\n",
    "    center = [19.570263289179646, 102.519677]\n",
    "    m = folium.Map(location=center, zoom_start=8, tiles='Stamen Terrain')\n",
    "    hasStrahler = 'Strahler' in data.columns\n",
    "    return m\n",
    "    for _,row in data.iterrows():\n",
    "        if not hasStrahler or row['Strahler'] > 0:\n",
    "            lines = row['geometry']\n",
    "            if lines.type == 'LineString':\n",
    "                lines = MultiLineString([lines])\n",
    "            for line in lines:\n",
    "                rev_line = [[tuple(reversed(t)) for t in list(line.coords)]]\n",
    "                if not hasStrahler:\n",
    "                    color = 1\n",
    "                else:\n",
    "                    color = row['Strahler']\n",
    "                m = add_line_string(rev_line, color, m)\n",
    "    return m\n",
    "\n",
    "def add_dams(dams, m):\n",
    "    dams_feature = folium.FeatureGroup(name=\"Dams\")\n",
    "    for _, row in dams.iterrows():\n",
    "        s = row.DAM_NAME + \" \" + str(row.geometry)\n",
    "        dams_feature.add_child(Marker(location=[row.geometry.y, row.geometry.x], popup=s))\n",
    "\n",
    "    dams_feature.add_to(m)\n",
    "    return m"
   ]
  },
  {
   "cell_type": "code",
   "execution_count": 10,
   "metadata": {},
   "outputs": [],
   "source": [
    "m = river_map(rivers_gpd)\n",
    "m = add_dams(dams_gpd, m)"
   ]
  },
  {
   "cell_type": "code",
   "execution_count": 11,
   "metadata": {},
   "outputs": [],
   "source": [
    "m.save('rivers_hydrosheds.html')"
   ]
  },
  {
   "cell_type": "code",
   "execution_count": 10,
   "metadata": {},
   "outputs": [],
   "source": [
    "# ax = rivers_gpd[rivers_gpd.UP_CELLS > 500].plot(figsize=(20,20))\n",
    "# dams_gpd.plot(markersize = 100, ax = ax, color='red')"
   ]
  },
  {
   "cell_type": "markdown",
   "metadata": {},
   "source": [
    "# Graph"
   ]
  },
  {
   "cell_type": "code",
   "execution_count": 7,
   "metadata": {},
   "outputs": [
    {
     "name": "stderr",
     "output_type": "stream",
     "text": [
      "/home/duongbao/Dropbox/code/HydroViet/lib/python3.6/site-packages/pyproj/crs.py:77: FutureWarning: '+init=<authority>:<code>' syntax is deprecated. '<authority>:<code>' is the preferred initialization method.\n",
      "  return _prepare_from_string(\" \".join(pjargs))\n",
      "/home/duongbao/Dropbox/code/HydroViet/lib/python3.6/site-packages/pyproj/crs.py:77: FutureWarning: '+init=<authority>:<code>' syntax is deprecated. '<authority>:<code>' is the preferred initialization method.\n",
      "  return _prepare_from_string(\" \".join(pjargs))\n"
     ]
    },
    {
     "data": {
      "text/plain": [
       "(143642, 143636)"
      ]
     },
     "execution_count": 7,
     "metadata": {},
     "output_type": "execute_result"
    }
   ],
   "source": [
    "import networkx as nx \n",
    "import matplotlib.pyplot as plt\n",
    "from shapely.ops import transform\n",
    "from functools import partial\n",
    "import pyproj\n",
    "\n",
    "project = partial(\n",
    "    pyproj.transform,\n",
    "    pyproj.Proj(init='EPSG:4326'),\n",
    "    pyproj.Proj(init='EPSG:32633'))\n",
    "\n",
    "def get_coords(lines, linestring_number, coord_number):\n",
    "    coords = lines[linestring_number]\n",
    "    res = coords.coords[coord_number]\n",
    "    return res[::-1]\n",
    "\n",
    "\"\"\"\n",
    "@job: calculate length of river in meters\n",
    "@input: lines: multilinestring\n",
    "@output: length in meter\n",
    "\"\"\"\n",
    "def river_length(lines):\n",
    "    return 1\n",
    "    total_len = 0\n",
    "    for riv in lines:\n",
    "        total_len += transform(project, riv).length\n",
    "    return total_len\n",
    "\n",
    "G = nx.DiGraph()\n",
    "node_types = defaultdict(set)\n",
    "\n",
    "for _, row in rivers_gpd[rivers_gpd.UP_CELLS > 0].iterrows():\n",
    "    line = row['geometry']\n",
    "    line = line.coords\n",
    "#     print(len(line))\n",
    "    for x, y in zip(line[:-1], line[1:]):\n",
    "        G.add_node(x, attr = {'coord': x})\n",
    "        G.add_node(y, attr = {'coord': y})\n",
    "        G.add_edge(x, y) # , attr={'len': transform(project, LineString([x, y]))})\n",
    "    node_types[line[0]] = node_types[line[0]] | set(['upstream'])\n",
    "    node_types[line[-1]] = node_types[line[-1]] | set(['downstream'])\n",
    "    \n",
    "G.number_of_nodes(), G.number_of_edges()"
   ]
  },
  {
   "cell_type": "code",
   "execution_count": 8,
   "metadata": {},
   "outputs": [
    {
     "name": "stdout",
     "output_type": "stream",
     "text": [
      "Nodes:  143642\n",
      "Edges:  143636\n",
      "Average degree:  0.9999582294871974\n",
      "SCC:  143642\n",
      "WCC:  6\n"
     ]
    }
   ],
   "source": [
    "N, K = G.order(), G.size()\n",
    "avg_deg = float(K) / N\n",
    "print(\"Nodes: \", N)\n",
    "print(\"Edges: \", K)\n",
    "print(\"Average degree: \", avg_deg)\n",
    "print(\"SCC: \", nx.number_strongly_connected_components(G))\n",
    "print(\"WCC: \", nx.number_weakly_connected_components(G))"
   ]
  },
  {
   "cell_type": "code",
   "execution_count": 9,
   "metadata": {},
   "outputs": [],
   "source": [
    "nodes = list(G.nodes)\n",
    "coords = [G.nodes[node]['attr']['coord'] for node in nodes]\n",
    "tree = KDTree(np.array(coords), leaf_size = 1)"
   ]
  },
  {
   "cell_type": "markdown",
   "metadata": {},
   "source": [
    "## Add dams to node set"
   ]
  },
  {
   "cell_type": "code",
   "execution_count": 10,
   "metadata": {},
   "outputs": [],
   "source": [
    "dams = []\n",
    "for i, row in dams_gpd[dams_gpd.AREA_POLY > 0].iterrows():\n",
    "    dams.append({'name': row['DAM_NAME'], 'coord': [row['LONG_DD'], row['LAT_DD']]})\n",
    "for dam in dams:\n",
    "    dam['type'] = 'dam'"
   ]
  },
  {
   "cell_type": "markdown",
   "metadata": {},
   "source": [
    "## Add river watch stations to node set"
   ]
  },
  {
   "cell_type": "code",
   "execution_count": 19,
   "metadata": {},
   "outputs": [],
   "source": [
    "river_watchs = [{'name': '242', 'coord': [102.555, 18.314]},\n",
    "               {'name': '239', 'coord': [104.805, 17.324]},\n",
    "               {'name': '84', 'coord': [104.715, 16.964]},\n",
    "               {'name': '223', 'coord': [104.805, 12.104]},\n",
    "               {'name': '34', 'coord': [105.255, 11.294]}]\n",
    "for rw in river_watchs:\n",
    "    rw['type'] = 'rw'"
   ]
  },
  {
   "cell_type": "markdown",
   "metadata": {},
   "source": [
    "## Make externel node set"
   ]
  },
  {
   "cell_type": "code",
   "execution_count": 20,
   "metadata": {},
   "outputs": [
    {
     "name": "stdout",
     "output_type": "stream",
     "text": [
      "37\n"
     ]
    }
   ],
   "source": [
    "externel_nodes = dams + river_watchs\n",
    "res = []\n",
    "node_info = {'dam': {}, 'rw': {}}\n",
    "new_externel_nodes = []\n",
    "\n",
    "for e_node in externel_nodes:\n",
    "    dist, node = map(lambda x: x[0][0], tree.query(np.array([e_node['coord']])))\n",
    "    node = nodes[node]\n",
    "    if dist <= 0.02:\n",
    "        node_info[e_node['type']][node] = e_node\n",
    "        node_types[node].add(e_node['type'])\n",
    "        e = {}\n",
    "        e.update(e_node)\n",
    "        e.update({'node': node, 'dist': dist, 'name': e_node['name']})\n",
    "        res.append(e)\n",
    "        new_externel_nodes.append(e_node)\n",
    "externel_nodes = new_externel_nodes\n",
    "res.sort(key = lambda node: node['dist'])\n",
    "# display(res)\n",
    "selected_dams = dams_gpd[dams_gpd.DAM_NAME.isin([node['name'] for node in res if node['type'] == 'dam'])]\n",
    "print(len(res))\n",
    "# node_info"
   ]
  },
  {
   "cell_type": "code",
   "execution_count": 21,
   "metadata": {},
   "outputs": [
    {
     "data": {
      "text/plain": [
       "[{'name': '242', 'coord': [102.555, 18.314], 'type': 'rw'},\n",
       " {'name': '239', 'coord': [104.805, 17.324], 'type': 'rw'},\n",
       " {'name': '223', 'coord': [104.805, 12.104], 'type': 'rw'},\n",
       " {'name': '34', 'coord': [105.255, 11.294], 'type': 'rw'}]"
      ]
     },
     "execution_count": 21,
     "metadata": {},
     "output_type": "execute_result"
    }
   ],
   "source": [
    "[enode for enode in externel_nodes if enode['type'] == 'rw']"
   ]
  },
  {
   "cell_type": "code",
   "execution_count": 33,
   "metadata": {},
   "outputs": [],
   "source": [
    "river_network = nx.DiGraph()\n",
    "new_nodes = {}\n",
    "old_nodes = {}\n",
    "for node in G.nodes:\n",
    "    if 'dam' in node_types[node] or 'rw' in node_types[node]: #len(node_types[node]) != 0:\n",
    "        new_nodes[node] = len(new_nodes)\n",
    "        old_nodes[new_nodes[node]] = node\n",
    "        t = 'dam' if 'dam' in node_types[node] else 'rw'\n",
    "        river_network.add_node(new_nodes[node], attr = {'coord': node,\n",
    "                                                        'types': node_types[node],\n",
    "                                                        'name': t + '_' + node_info[t][node]['name']\n",
    "                                                       })\n",
    "\n",
    "for node in river_network.nodes:\n",
    "    old_node = old_nodes[node]\n",
    "    len(old_node)\n",
    "    dist = {old_node: 0}\n",
    "    q = [old_node]\n",
    "    for u in q:\n",
    "        for v in G.neighbors(u):\n",
    "#             if v not in dist:\n",
    "#                 dist[v] = dist[u] + 1 # G.edges[u, v]['attr']['len']\n",
    "                if 'dam' in node_types[v] or 'rw' in node_types[v]: #len(node_types[v]):\n",
    "                    river_network.add_edge(node, new_nodes[v]) # , attr = dist[v])\n",
    "                else:\n",
    "                    q.append(v)"
   ]
  },
  {
   "cell_type": "code",
   "execution_count": 44,
   "metadata": {},
   "outputs": [],
   "source": [
    "for node in river_network.nodes:\n",
    "    node = river_network.nodes.get(node)['attr']\n",
    "    node['types'] = list(node['types'])"
   ]
  },
  {
   "cell_type": "code",
   "execution_count": 45,
   "metadata": {},
   "outputs": [
    {
     "name": "stdout",
     "output_type": "stream",
     "text": [
      "Nodes: 37\n",
      "Edges; 36\n",
      "Connected components: 1\n"
     ]
    }
   ],
   "source": [
    "print('Nodes:', river_network.number_of_nodes())\n",
    "print('Edges;', river_network.number_of_edges())\n",
    "print('Connected components:', nx.number_weakly_connected_components(river_network))"
   ]
  },
  {
   "cell_type": "code",
   "execution_count": 46,
   "metadata": {},
   "outputs": [
    {
     "data": {
      "text/plain": [
       "[37]"
      ]
     },
     "execution_count": 46,
     "metadata": {},
     "output_type": "execute_result"
    }
   ],
   "source": [
    "[len(c) for c in nx.weakly_connected_components(river_network)]"
   ]
  },
  {
   "cell_type": "code",
   "execution_count": 51,
   "metadata": {},
   "outputs": [],
   "source": [
    "def add_line_string2(line, m):\n",
    "    attr = {'fill': '#007DEF', 'font-weight': 'bold', 'font-size': '160'}\n",
    "    riverline = folium.PolyLine(line, color = 'blue', weight = 2.5).add_to(m)\n",
    "    plugins.PolyLineTextPath(riverline, '\\u27a4', center = True, attr = attr).add_to(m)\n",
    "    return m\n",
    "\n",
    "def river_map2(graph):\n",
    "    '''\n",
    "    Visualize river map with dataframe from shapefile.\n",
    "    Color of river based on its strahler number.\n",
    "    '''\n",
    "    center = [19.570263289179646, 102.519677]\n",
    "    m = folium.Map(location=center, zoom_start=9, tiles='Stamen Terrain')\n",
    "    \n",
    "    for x, y in graph.edges:\n",
    "        line = [graph.nodes.get(x)['attr']['coord'][::-1], graph.nodes.get(y)['attr']['coord'][::-1]]\n",
    "        m = add_line_string2(line, m)\n",
    "        \n",
    "    return m\n",
    "\n",
    "color_types = {'dam': 'blue', 'rw': 'red', 'blue;river watch': 'orange'}\n",
    "def add_externel_nodes(externel_nodes, m):\n",
    "    dams_feature = folium.FeatureGroup(name=\"Dams\")\n",
    "    for e_node in externel_nodes:\n",
    "        s = e_node['type'] + '_' + e_node['name']\n",
    "        dams_feature.add_child(Marker(location = e_node['coord'][::-1], icon = folium.Icon(color = color_types[e_node['type']]), popup = s))\n",
    "    dams_feature.add_to(m)\n",
    "    return m\n",
    "m = river_map2(river_network)\n",
    "m = add_externel_nodes(externel_nodes, m)\n",
    "m.save('pruned_rivers_network_hydrosheds.html')"
   ]
  },
  {
   "cell_type": "code",
   "execution_count": 52,
   "metadata": {},
   "outputs": [
    {
     "data": {
      "text/plain": [
       "(37, 36)"
      ]
     },
     "execution_count": 52,
     "metadata": {},
     "output_type": "execute_result"
    },
    {
     "data": {
      "image/png": "[encoded data removed]",
      "text/plain": [
       "<Figure size 720x720 with 1 Axes>"
      ]
     },
     "metadata": {},
     "output_type": "display_data"
    }
   ],
   "source": [
    "plt.figure(figsize = (10, 10))\n",
    "nx.draw(river_network.to_undirected(), with_labels=True)\n",
    "river_network.number_of_nodes(), river_network.number_of_edges()"
   ]
  },
  {
   "cell_type": "code",
   "execution_count": 49,
   "metadata": {},
   "outputs": [],
   "source": [
    "from networkx.readwrite import json_graph\n",
    "import json\n",
    "data = json_graph.node_link_data(river_network.to_undirected())\n",
    "json.dump(data, open('river_network.json', 'w'))"
   ]
  },
  {
   "cell_type": "code",
   "execution_count": 33,
   "metadata": {},
   "outputs": [],
   "source": [
    "sources = [node for node in river_network.nodes if river_network.in_degree[node] == 0 and river_network.out_degree[node] > 0]"
   ]
  },
  {
   "cell_type": "code",
   "execution_count": 30,
   "metadata": {},
   "outputs": [],
   "source": [
    "sinks = [node for node in river_network.nodes if river_network.in_degree[node] > 0 and river_network.out_degree[node] == 0]"
   ]
  },
  {
   "cell_type": "code",
   "execution_count": null,
   "metadata": {},
   "outputs": [],
   "source": [
    "for node in sources:\n",
    "    if river_network.nodes[node]['attr']['types'] != ['upstream']:\n",
    "        print(river_network.nodes[node]['attr']['types'])"
   ]
  },
  {
   "cell_type": "code",
   "execution_count": null,
   "metadata": {},
   "outputs": [],
   "source": [
    "for node in sinks:\n",
    "    if river_network.nodes[node]['attr']['types'] != []:\n",
    "        print(river_network.nodes[node]['attr']['types'])"
   ]
  }
 ],
 "metadata": {
  "kernelspec": {
   "display_name": "hydroviet",
   "language": "python",
   "name": "hydroviet"
  },
  "language_info": {
   "codemirror_mode": {
    "name": "ipython",
    "version": 3
   },
   "file_extension": ".py",
   "mimetype": "text/x-python",
   "name": "python",
   "nbconvert_exporter": "python",
   "pygments_lexer": "ipython3",
   "version": "3.6.9"
  }
 },
 "nbformat": 4,
 "nbformat_minor": 4
}
