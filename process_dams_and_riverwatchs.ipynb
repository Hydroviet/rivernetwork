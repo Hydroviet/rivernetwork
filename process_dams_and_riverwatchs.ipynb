{
 "cells": [
  {
   "cell_type": "code",
   "execution_count": 13,
   "metadata": {},
   "outputs": [
    {
     "name": "stdout",
     "output_type": "stream",
     "text": [
      "Requirement already satisfied: html5lib in ./lib/python3.6/site-packages\n",
      "Requirement already satisfied: lxml in ./lib/python3.6/site-packages\n",
      "Requirement already satisfied: six>=1.9 in ./lib/python3.6/site-packages (from html5lib)\n",
      "Requirement already satisfied: webencodings in ./lib/python3.6/site-packages (from html5lib)\n"
     ]
    }
   ],
   "source": [
    "!pip3 install html5lib lxml"
   ]
  },
  {
   "cell_type": "code",
   "execution_count": 13,
   "metadata": {},
   "outputs": [],
   "source": [
    "import pandas as pd\n",
    "import os\n",
    "import matplotlib.pyplot as plt"
   ]
  },
  {
   "cell_type": "code",
   "execution_count": 14,
   "metadata": {},
   "outputs": [],
   "source": [
    "df = {}"
   ]
  },
  {
   "cell_type": "code",
   "execution_count": 15,
   "metadata": {},
   "outputs": [],
   "source": [
    "for file in os.listdir('./data/waterdata'):\n",
    "    s = file.split('_')\n",
    "    name = s[0]\n",
    "    data = pd.read_csv('./data/waterdata/' + file)\n",
    "    del data['system:index']\n",
    "    del data['.geo']\n",
    "    data['Date'] = pd.to_datetime(data['Date'])\n",
    "    data = data.set_index('Date')\n",
    "    if name not in df:\n",
    "        df[name] = data\n",
    "    else:\n",
    "        df[name] = pd.concat([df[name], data], axis = 0)"
   ]
  },
  {
   "cell_type": "code",
   "execution_count": 16,
   "metadata": {},
   "outputs": [],
   "source": [
    "for name in df.keys():\n",
    "    df[name] = df[name].sort_index()\n",
    "    df[name] = df[name][df[name].ImageCoverage >= 0.99]\n",
    "    df[name].to_csv(f'data/monitordata/dam_{name}.csv')"
   ]
  },
  {
   "cell_type": "code",
   "execution_count": 41,
   "metadata": {},
   "outputs": [
    {
     "data": {
      "text/plain": [
       "ImageCoverage       1.000238\n",
       "WaterArea           6.518067\n",
       "WaterPixels      8110.101961\n",
       "dtype: float64"
      ]
     },
     "execution_count": 41,
     "metadata": {},
     "output_type": "execute_result"
    }
   ],
   "source": [
    "df['Haixihai'].max()"
   ]
  },
  {
   "cell_type": "code",
   "execution_count": 39,
   "metadata": {},
   "outputs": [
    {
     "data": {
      "image/png": "[encoded data removed]",
      "text/plain": [
       "<Figure size 432x288 with 1 Axes>"
      ]
     },
     "metadata": {
      "needs_background": "light"
     },
     "output_type": "display_data"
    }
   ],
   "source": [
    "df['Haixihai'].plot(use_index = True, y = ['WaterArea', 'WaterPixels'])\n",
    "plt.show()"
   ]
  },
  {
   "cell_type": "code",
   "execution_count": 38,
   "metadata": {},
   "outputs": [
    {
     "data": {
      "text/html": [
       "<div>\n",
       "<style scoped>\n",
       "    .dataframe tbody tr th:only-of-type {\n",
       "        vertical-align: middle;\n",
       "    }\n",
       "\n",
       "    .dataframe tbody tr th {\n",
       "        vertical-align: top;\n",
       "    }\n",
       "\n",
       "    .dataframe thead th {\n",
       "        text-align: right;\n",
       "    }\n",
       "</style>\n",
       "<table border=\"1\" class=\"dataframe\">\n",
       "  <thead>\n",
       "    <tr style=\"text-align: right;\">\n",
       "      <th></th>\n",
       "      <th>ImageCoverage</th>\n",
       "      <th>WaterArea</th>\n",
       "      <th>WaterPixels</th>\n",
       "    </tr>\n",
       "  </thead>\n",
       "  <tbody>\n",
       "    <tr>\n",
       "      <th>ImageCoverage</th>\n",
       "      <td>1.000000e+00</td>\n",
       "      <td>-1.365726e-14</td>\n",
       "      <td>3.363491e-15</td>\n",
       "    </tr>\n",
       "    <tr>\n",
       "      <th>WaterArea</th>\n",
       "      <td>-1.365726e-14</td>\n",
       "      <td>1.000000e+00</td>\n",
       "      <td>1.000000e+00</td>\n",
       "    </tr>\n",
       "    <tr>\n",
       "      <th>WaterPixels</th>\n",
       "      <td>3.363491e-15</td>\n",
       "      <td>1.000000e+00</td>\n",
       "      <td>1.000000e+00</td>\n",
       "    </tr>\n",
       "  </tbody>\n",
       "</table>\n",
       "</div>"
      ],
      "text/plain": [
       "               ImageCoverage     WaterArea   WaterPixels\n",
       "ImageCoverage   1.000000e+00 -1.365726e-14  3.363491e-15\n",
       "WaterArea      -1.365726e-14  1.000000e+00  1.000000e+00\n",
       "WaterPixels     3.363491e-15  1.000000e+00  1.000000e+00"
      ]
     },
     "execution_count": 38,
     "metadata": {},
     "output_type": "execute_result"
    }
   ],
   "source": [
    "df['Haixihai'].corr()"
   ]
  },
  {
   "cell_type": "code",
   "execution_count": 7,
   "metadata": {},
   "outputs": [],
   "source": [
    "df = pd.read_csv('data/tmp.csv', sep = ';')"
   ]
  },
  {
   "cell_type": "code",
   "execution_count": 9,
   "metadata": {},
   "outputs": [
    {
     "data": {
      "text/html": [
       "<div>\n",
       "<style scoped>\n",
       "    .dataframe tbody tr th:only-of-type {\n",
       "        vertical-align: middle;\n",
       "    }\n",
       "\n",
       "    .dataframe tbody tr th {\n",
       "        vertical-align: top;\n",
       "    }\n",
       "\n",
       "    .dataframe thead th {\n",
       "        text-align: right;\n",
       "    }\n",
       "</style>\n",
       "<table border=\"1\" class=\"dataframe\">\n",
       "  <thead>\n",
       "    <tr style=\"text-align: right;\">\n",
       "      <th></th>\n",
       "      <th>AreasDataId</th>\n",
       "      <th>AreaId</th>\n",
       "      <th>Country</th>\n",
       "      <th>AlertLevel</th>\n",
       "      <th>Description</th>\n",
       "      <th>TypePointArea</th>\n",
       "      <th>PointsInJsonFormat</th>\n",
       "      <th>PointsNumber</th>\n",
       "      <th>BoundingBoxLonMin</th>\n",
       "      <th>BoundingBoxLonMax</th>\n",
       "      <th>...</th>\n",
       "      <th>SignalAvg</th>\n",
       "      <th>SignalSd</th>\n",
       "      <th>SignalMin</th>\n",
       "      <th>MagnitudeAvg</th>\n",
       "      <th>MagnitudeSd</th>\n",
       "      <th>MagnitudeMax</th>\n",
       "      <th>MagGreatEqual2Count</th>\n",
       "      <th>MagGreatEqual4Count</th>\n",
       "      <th>PixelIndexesMagGE2</th>\n",
       "      <th>PixelIndexesMagGE4</th>\n",
       "    </tr>\n",
       "  </thead>\n",
       "  <tbody>\n",
       "    <tr>\n",
       "      <th>0</th>\n",
       "      <td>107474214</td>\n",
       "      <td>236</td>\n",
       "      <td>Thailand</td>\n",
       "      <td>2</td>\n",
       "      <td>Site 243 (Thailand)</td>\n",
       "      <td>P</td>\n",
       "      <td>{\"Points\":[{\"X\":3154,\"Y\":822,\"CoordinatesType\"...</td>\n",
       "      <td>1</td>\n",
       "      <td>102.86</td>\n",
       "      <td>104.95</td>\n",
       "      <td>...</td>\n",
       "      <td>0.884817</td>\n",
       "      <td>NaN</td>\n",
       "      <td>NaN</td>\n",
       "      <td>4.889103</td>\n",
       "      <td>NaN</td>\n",
       "      <td>NaN</td>\n",
       "      <td>NaN</td>\n",
       "      <td>NaN</td>\n",
       "      <td>NaN</td>\n",
       "      <td>NaN</td>\n",
       "    </tr>\n",
       "    <tr>\n",
       "      <th>494</th>\n",
       "      <td>107489160</td>\n",
       "      <td>236</td>\n",
       "      <td>Thailand</td>\n",
       "      <td>2</td>\n",
       "      <td>Site 243 (Thailand)</td>\n",
       "      <td>P</td>\n",
       "      <td>{\"Points\":[{\"X\":3154,\"Y\":822,\"CoordinatesType\"...</td>\n",
       "      <td>1</td>\n",
       "      <td>102.86</td>\n",
       "      <td>104.95</td>\n",
       "      <td>...</td>\n",
       "      <td>0.884817</td>\n",
       "      <td>NaN</td>\n",
       "      <td>NaN</td>\n",
       "      <td>4.889103</td>\n",
       "      <td>NaN</td>\n",
       "      <td>NaN</td>\n",
       "      <td>NaN</td>\n",
       "      <td>NaN</td>\n",
       "      <td>NaN</td>\n",
       "      <td>NaN</td>\n",
       "    </tr>\n",
       "  </tbody>\n",
       "</table>\n",
       "<p>2 rows × 34 columns</p>\n",
       "</div>"
      ],
      "text/plain": [
       "     AreasDataId  AreaId   Country  AlertLevel          Description  \\\n",
       "0      107474214     236  Thailand           2  Site 243 (Thailand)   \n",
       "494    107489160     236  Thailand           2  Site 243 (Thailand)   \n",
       "\n",
       "    TypePointArea                                 PointsInJsonFormat  \\\n",
       "0               P  {\"Points\":[{\"X\":3154,\"Y\":822,\"CoordinatesType\"...   \n",
       "494             P  {\"Points\":[{\"X\":3154,\"Y\":822,\"CoordinatesType\"...   \n",
       "\n",
       "     PointsNumber  BoundingBoxLonMin  BoundingBoxLonMax  ...  SignalAvg  \\\n",
       "0               1             102.86             104.95  ...   0.884817   \n",
       "494             1             102.86             104.95  ...   0.884817   \n",
       "\n",
       "     SignalSd  SignalMin MagnitudeAvg MagnitudeSd  MagnitudeMax  \\\n",
       "0         NaN        NaN     4.889103         NaN           NaN   \n",
       "494       NaN        NaN     4.889103         NaN           NaN   \n",
       "\n",
       "     MagGreatEqual2Count MagGreatEqual4Count  PixelIndexesMagGE2  \\\n",
       "0                    NaN                 NaN                 NaN   \n",
       "494                  NaN                 NaN                 NaN   \n",
       "\n",
       "     PixelIndexesMagGE4  \n",
       "0                   NaN  \n",
       "494                 NaN  \n",
       "\n",
       "[2 rows x 34 columns]"
      ]
     },
     "execution_count": 9,
     "metadata": {},
     "output_type": "execute_result"
    }
   ],
   "source": [
    "df[df.Country == 'Thailand']"
   ]
  },
  {
   "cell_type": "code",
   "execution_count": 1,
   "metadata": {},
   "outputs": [],
   "source": [
    "rivers = {\n",
    "    '242': 'https://floodobservatory.colorado.edu/SiteDisplays/242data.htm',\n",
    "    '223': 'https://floodobservatory.colorado.edu/SiteDisplays/223data.htm',\n",
    "    '34': 'https://floodobservatory.colorado.edu/SiteDisplays/34data.htm',\n",
    "    '239': 'https://floodobservatory.colorado.edu/SiteDisplays/239data.htm'\n",
    "}"
   ]
  },
  {
   "cell_type": "code",
   "execution_count": 2,
   "metadata": {},
   "outputs": [],
   "source": [
    "import pandas as pd"
   ]
  },
  {
   "cell_type": "code",
   "execution_count": 3,
   "metadata": {},
   "outputs": [],
   "source": [
    "for name, link in rivers.items():\n",
    "    df = pd.read_html(link)[0]\n",
    "    df = df[df.index > 38].reset_index(drop = True)\n",
    "    daily_df = df[[0, 1, 2, 3, 4]].copy(deep = True)\n",
    "    daily_df.columns = ['Date', '5-day avg discharge (m3/sec)', 'Total flood runoff (mm)', 'Daily runoff (mm)', 'Total 7-day runoff (mm)']\n",
    "    daily_df.dropna(inplace = True)\n",
    "    daily_df['Date'] = pd.to_datetime(daily_df['Date'], infer_datetime_format = True)\n",
    "    daily_df = daily_df.set_index('Date')\n",
    "    daily_df = daily_df.astype('float32')\n",
    "    daily_df.to_csv(f'data/monitordata/rw_{name}.csv')"
   ]
  },
  {
   "cell_type": "code",
   "execution_count": 7,
   "metadata": {},
   "outputs": [
    {
     "data": {
      "text/html": [
       "<div>\n",
       "<style scoped>\n",
       "    .dataframe tbody tr th:only-of-type {\n",
       "        vertical-align: middle;\n",
       "    }\n",
       "\n",
       "    .dataframe tbody tr th {\n",
       "        vertical-align: top;\n",
       "    }\n",
       "\n",
       "    .dataframe thead th {\n",
       "        text-align: right;\n",
       "    }\n",
       "</style>\n",
       "<table border=\"1\" class=\"dataframe\">\n",
       "  <thead>\n",
       "    <tr style=\"text-align: right;\">\n",
       "      <th></th>\n",
       "      <th>5-day avg discharge (m3/sec)</th>\n",
       "      <th>Total flood runoff (mm)</th>\n",
       "      <th>Daily runoff (mm)</th>\n",
       "      <th>Total 7-day runoff (mm)</th>\n",
       "    </tr>\n",
       "    <tr>\n",
       "      <th>Date</th>\n",
       "      <th></th>\n",
       "      <th></th>\n",
       "      <th></th>\n",
       "      <th></th>\n",
       "    </tr>\n",
       "  </thead>\n",
       "  <tbody>\n",
       "    <tr>\n",
       "      <th>1998-01-07</th>\n",
       "      <td>18793.0</td>\n",
       "      <td>0.0</td>\n",
       "      <td>2.14</td>\n",
       "      <td>16.040001</td>\n",
       "    </tr>\n",
       "    <tr>\n",
       "      <th>1998-01-08</th>\n",
       "      <td>17645.0</td>\n",
       "      <td>0.0</td>\n",
       "      <td>2.01</td>\n",
       "      <td>15.440000</td>\n",
       "    </tr>\n",
       "    <tr>\n",
       "      <th>1998-01-09</th>\n",
       "      <td>17222.0</td>\n",
       "      <td>0.0</td>\n",
       "      <td>1.96</td>\n",
       "      <td>15.030000</td>\n",
       "    </tr>\n",
       "    <tr>\n",
       "      <th>1998-01-10</th>\n",
       "      <td>17359.0</td>\n",
       "      <td>0.0</td>\n",
       "      <td>1.98</td>\n",
       "      <td>14.670000</td>\n",
       "    </tr>\n",
       "    <tr>\n",
       "      <th>1998-01-11</th>\n",
       "      <td>17040.0</td>\n",
       "      <td>0.0</td>\n",
       "      <td>1.94</td>\n",
       "      <td>14.350000</td>\n",
       "    </tr>\n",
       "    <tr>\n",
       "      <th>...</th>\n",
       "      <td>...</td>\n",
       "      <td>...</td>\n",
       "      <td>...</td>\n",
       "      <td>...</td>\n",
       "    </tr>\n",
       "    <tr>\n",
       "      <th>2019-12-26</th>\n",
       "      <td>19433.0</td>\n",
       "      <td>0.0</td>\n",
       "      <td>2.21</td>\n",
       "      <td>15.470000</td>\n",
       "    </tr>\n",
       "    <tr>\n",
       "      <th>2019-12-27</th>\n",
       "      <td>19433.0</td>\n",
       "      <td>0.0</td>\n",
       "      <td>2.21</td>\n",
       "      <td>15.360000</td>\n",
       "    </tr>\n",
       "    <tr>\n",
       "      <th>2019-12-28</th>\n",
       "      <td>20132.0</td>\n",
       "      <td>0.0</td>\n",
       "      <td>2.29</td>\n",
       "      <td>15.450000</td>\n",
       "    </tr>\n",
       "    <tr>\n",
       "      <th>2019-12-29</th>\n",
       "      <td>20132.0</td>\n",
       "      <td>0.0</td>\n",
       "      <td>2.29</td>\n",
       "      <td>15.570000</td>\n",
       "    </tr>\n",
       "    <tr>\n",
       "      <th>2019-12-30</th>\n",
       "      <td>20132.0</td>\n",
       "      <td>0.0</td>\n",
       "      <td>2.29</td>\n",
       "      <td>15.690000</td>\n",
       "    </tr>\n",
       "  </tbody>\n",
       "</table>\n",
       "<p>7999 rows × 4 columns</p>\n",
       "</div>"
      ],
      "text/plain": [
       "            5-day avg discharge (m3/sec)  Total flood runoff (mm)  \\\n",
       "Date                                                                \n",
       "1998-01-07                       18793.0                      0.0   \n",
       "1998-01-08                       17645.0                      0.0   \n",
       "1998-01-09                       17222.0                      0.0   \n",
       "1998-01-10                       17359.0                      0.0   \n",
       "1998-01-11                       17040.0                      0.0   \n",
       "...                                  ...                      ...   \n",
       "2019-12-26                       19433.0                      0.0   \n",
       "2019-12-27                       19433.0                      0.0   \n",
       "2019-12-28                       20132.0                      0.0   \n",
       "2019-12-29                       20132.0                      0.0   \n",
       "2019-12-30                       20132.0                      0.0   \n",
       "\n",
       "            Daily runoff (mm)  Total 7-day runoff (mm)  \n",
       "Date                                                    \n",
       "1998-01-07               2.14                16.040001  \n",
       "1998-01-08               2.01                15.440000  \n",
       "1998-01-09               1.96                15.030000  \n",
       "1998-01-10               1.98                14.670000  \n",
       "1998-01-11               1.94                14.350000  \n",
       "...                       ...                      ...  \n",
       "2019-12-26               2.21                15.470000  \n",
       "2019-12-27               2.21                15.360000  \n",
       "2019-12-28               2.29                15.450000  \n",
       "2019-12-29               2.29                15.570000  \n",
       "2019-12-30               2.29                15.690000  \n",
       "\n",
       "[7999 rows x 4 columns]"
      ]
     },
     "execution_count": 7,
     "metadata": {},
     "output_type": "execute_result"
    }
   ],
   "source": [
    "daily_df"
   ]
  },
  {
   "cell_type": "code",
   "execution_count": null,
   "metadata": {},
   "outputs": [],
   "source": []
  }
 ],
 "metadata": {
  "kernelspec": {
   "display_name": "hydroviet",
   "language": "python",
   "name": "hydroviet"
  },
  "language_info": {
   "codemirror_mode": {
    "name": "ipython",
    "version": 3
   },
   "file_extension": ".py",
   "mimetype": "text/x-python",
   "name": "python",
   "nbconvert_exporter": "python",
   "pygments_lexer": "ipython3",
   "version": "3.6.9"
  }
 },
 "nbformat": 4,
 "nbformat_minor": 4
}
